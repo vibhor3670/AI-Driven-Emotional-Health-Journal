{
  "nbformat": 4,
  "nbformat_minor": 0,
  "metadata": {
    "colab": {
      "provenance": []
    },
    "kernelspec": {
      "name": "python3",
      "display_name": "Python 3"
    },
    "language_info": {
      "name": "python"
    }
  },
  "cells": [
    {
      "cell_type": "code",
      "execution_count": 2,
      "metadata": {
        "colab": {
          "base_uri": "https://localhost:8080/"
        },
        "id": "TNrE8nvjqXPs",
        "outputId": "050ab897-4aee-47b2-ab45-b144993b82d7"
      },
      "outputs": [
        {
          "output_type": "stream",
          "name": "stdout",
          "text": [
            "Requirement already satisfied: textblob in /usr/local/lib/python3.10/dist-packages (0.17.1)\n",
            "Requirement already satisfied: transformers in /usr/local/lib/python3.10/dist-packages (4.44.2)\n",
            "Requirement already satisfied: matplotlib in /usr/local/lib/python3.10/dist-packages (3.7.1)\n",
            "Requirement already satisfied: pandas in /usr/local/lib/python3.10/dist-packages (2.2.2)\n",
            "Requirement already satisfied: nltk>=3.1 in /usr/local/lib/python3.10/dist-packages (from textblob) (3.8.1)\n",
            "Requirement already satisfied: filelock in /usr/local/lib/python3.10/dist-packages (from transformers) (3.16.1)\n",
            "Requirement already satisfied: huggingface-hub<1.0,>=0.23.2 in /usr/local/lib/python3.10/dist-packages (from transformers) (0.24.7)\n",
            "Requirement already satisfied: numpy>=1.17 in /usr/local/lib/python3.10/dist-packages (from transformers) (1.26.4)\n",
            "Requirement already satisfied: packaging>=20.0 in /usr/local/lib/python3.10/dist-packages (from transformers) (24.1)\n",
            "Requirement already satisfied: pyyaml>=5.1 in /usr/local/lib/python3.10/dist-packages (from transformers) (6.0.2)\n",
            "Requirement already satisfied: regex!=2019.12.17 in /usr/local/lib/python3.10/dist-packages (from transformers) (2024.9.11)\n",
            "Requirement already satisfied: requests in /usr/local/lib/python3.10/dist-packages (from transformers) (2.32.3)\n",
            "Requirement already satisfied: safetensors>=0.4.1 in /usr/local/lib/python3.10/dist-packages (from transformers) (0.4.5)\n",
            "Requirement already satisfied: tokenizers<0.20,>=0.19 in /usr/local/lib/python3.10/dist-packages (from transformers) (0.19.1)\n",
            "Requirement already satisfied: tqdm>=4.27 in /usr/local/lib/python3.10/dist-packages (from transformers) (4.66.5)\n",
            "Requirement already satisfied: contourpy>=1.0.1 in /usr/local/lib/python3.10/dist-packages (from matplotlib) (1.3.0)\n",
            "Requirement already satisfied: cycler>=0.10 in /usr/local/lib/python3.10/dist-packages (from matplotlib) (0.12.1)\n",
            "Requirement already satisfied: fonttools>=4.22.0 in /usr/local/lib/python3.10/dist-packages (from matplotlib) (4.54.1)\n",
            "Requirement already satisfied: kiwisolver>=1.0.1 in /usr/local/lib/python3.10/dist-packages (from matplotlib) (1.4.7)\n",
            "Requirement already satisfied: pillow>=6.2.0 in /usr/local/lib/python3.10/dist-packages (from matplotlib) (10.4.0)\n",
            "Requirement already satisfied: pyparsing>=2.3.1 in /usr/local/lib/python3.10/dist-packages (from matplotlib) (3.2.0)\n",
            "Requirement already satisfied: python-dateutil>=2.7 in /usr/local/lib/python3.10/dist-packages (from matplotlib) (2.8.2)\n",
            "Requirement already satisfied: pytz>=2020.1 in /usr/local/lib/python3.10/dist-packages (from pandas) (2024.2)\n",
            "Requirement already satisfied: tzdata>=2022.7 in /usr/local/lib/python3.10/dist-packages (from pandas) (2024.2)\n",
            "Requirement already satisfied: fsspec>=2023.5.0 in /usr/local/lib/python3.10/dist-packages (from huggingface-hub<1.0,>=0.23.2->transformers) (2024.6.1)\n",
            "Requirement already satisfied: typing-extensions>=3.7.4.3 in /usr/local/lib/python3.10/dist-packages (from huggingface-hub<1.0,>=0.23.2->transformers) (4.12.2)\n",
            "Requirement already satisfied: click in /usr/local/lib/python3.10/dist-packages (from nltk>=3.1->textblob) (8.1.7)\n",
            "Requirement already satisfied: joblib in /usr/local/lib/python3.10/dist-packages (from nltk>=3.1->textblob) (1.4.2)\n",
            "Requirement already satisfied: six>=1.5 in /usr/local/lib/python3.10/dist-packages (from python-dateutil>=2.7->matplotlib) (1.16.0)\n",
            "Requirement already satisfied: charset-normalizer<4,>=2 in /usr/local/lib/python3.10/dist-packages (from requests->transformers) (3.4.0)\n",
            "Requirement already satisfied: idna<4,>=2.5 in /usr/local/lib/python3.10/dist-packages (from requests->transformers) (3.10)\n",
            "Requirement already satisfied: urllib3<3,>=1.21.1 in /usr/local/lib/python3.10/dist-packages (from requests->transformers) (2.2.3)\n",
            "Requirement already satisfied: certifi>=2017.4.17 in /usr/local/lib/python3.10/dist-packages (from requests->transformers) (2024.8.30)\n"
          ]
        }
      ],
      "source": [
        "!pip install textblob transformers matplotlib pandas"
      ]
    },
    {
      "cell_type": "code",
      "source": [
        "# Import required libraries\n",
        "import datetime\n",
        "import sqlite3\n",
        "from textblob  import TextBlob\n",
        "from transformers import pipeline\n",
        "import matplotlib.pyplot as plt\n",
        "import pandas as pd"
      ],
      "metadata": {
        "id": "PYB6lCmiq_ZV"
      },
      "execution_count": 5,
      "outputs": []
    },
    {
      "cell_type": "code",
      "source": [
        "!pip install pytz"
      ],
      "metadata": {
        "colab": {
          "base_uri": "https://localhost:8080/"
        },
        "id": "4XvZftW8sT0v",
        "outputId": "682def46-c02e-41c9-f5cb-eeef757ddf2e"
      },
      "execution_count": 2,
      "outputs": [
        {
          "output_type": "stream",
          "name": "stdout",
          "text": [
            "Requirement already satisfied: pytz in /usr/local/lib/python3.10/dist-packages (2024.2)\n"
          ]
        }
      ]
    },
    {
      "cell_type": "code",
      "source": [
        "import pytz\n",
        "# Function to capture journal entry\n",
        "def get_journal_entry():\n",
        "    entry = input(\"Please enter your journal entry for today: \")\n",
        "    ist_timezone = pytz.timezone(\"Asia/Kolkata\")\n",
        "    timestamp = datetime.datetime.now(ist_timezone).strftime(\"%Y-%m-%d %H:%M:%S\")\n",
        "    return entry, timestamp\n",
        "\n",
        "# Testing the input\n",
        "entry, timestamp = get_journal_entry()\n",
        "print(f\"Entry: {entry}\\nTimestamp: {timestamp}\")"
      ],
      "metadata": {
        "colab": {
          "base_uri": "https://localhost:8080/"
        },
        "id": "v1mstKMxqi-j",
        "outputId": "0a025fd4-66f5-40d5-e7f9-5cca903cb1ad"
      },
      "execution_count": 25,
      "outputs": [
        {
          "output_type": "stream",
          "name": "stdout",
          "text": [
            "Please enter your journal entry for today: I am feeling sad today but still thinking to laugh\n",
            "Entry: I am feeling sad today but still thinking to laugh\n",
            "Timestamp: 2024-10-19 18:12:01\n"
          ]
        }
      ]
    },
    {
      "cell_type": "code",
      "source": [
        "# Sentiment analysis using TextBlob\n",
        "def analyze_sentiment(entry):\n",
        "  blob = TextBlob(entry)\n",
        "  sentiment_score = blob.sentiment.polarity\n",
        "  if sentiment_score > 0:\n",
        "    return \"Positive\"\n",
        "  elif sentiment_score <0:\n",
        "    return \"Negative\"\n",
        "  else:\n",
        "    return \"Neutral\"\n",
        "\n",
        "# Test with your journal entry\n",
        "sentiment = analyze_sentiment(entry)\n",
        "print(f\"Sentiment: {sentiment}\")\n"
      ],
      "metadata": {
        "id": "gwBPysjVtu0f",
        "outputId": "1876e5e5-7dec-4e66-bc2a-4469442a383c",
        "colab": {
          "base_uri": "https://localhost:8080/"
        }
      },
      "execution_count": 26,
      "outputs": [
        {
          "output_type": "stream",
          "name": "stdout",
          "text": [
            "Sentiment: Negative\n"
          ]
        }
      ]
    },
    {
      "cell_type": "code",
      "source": [
        "# Set up Hugging Face pipeline for emotion detection\n",
        "emotion_classifier = pipeline(\"text-classification\", model=\"j-hartmann/emotion-english-distilroberta-base\")\n",
        "\n",
        "# Emotion detection function\n",
        "def detect_emotions(entry):\n",
        "  emotions = emotion_classifier(entry)\n",
        "  return emotions[0] ['label'] # Return the most likely emotion\n",
        "\n",
        "# Test emotion detection\n",
        "emotion = detect_emotions(entry)\n",
        "print(f\"Detected Emotion: {emotion}\")"
      ],
      "metadata": {
        "id": "YVKDlf7sujlU",
        "outputId": "b932c1da-2861-477c-b92c-123dca966f1e",
        "colab": {
          "base_uri": "https://localhost:8080/"
        }
      },
      "execution_count": 27,
      "outputs": [
        {
          "output_type": "stream",
          "name": "stdout",
          "text": [
            "Detected Emotion: sadness\n"
          ]
        },
        {
          "output_type": "stream",
          "name": "stderr",
          "text": [
            "/usr/local/lib/python3.10/dist-packages/transformers/tokenization_utils_base.py:1601: FutureWarning: `clean_up_tokenization_spaces` was not set. It will be set to `True` by default. This behavior will be depracted in transformers v4.45, and will be then set to `False` by default. For more details check this issue: https://github.com/huggingface/transformers/issues/31884\n",
            "  warnings.warn(\n"
          ]
        }
      ]
    },
    {
      "cell_type": "code",
      "source": [
        "def create_db():\n",
        "  conn = sqlite3.connect('journal.db')\n",
        "  cursor = conn.cursor()\n",
        "  cursor.execute('''CREATE TABLE IF NOT EXISTS journal\n",
        "                    (id INTEGER PRIMARY KEY AUTOINCREMENT,\n",
        "                    timestamp TEXT,\n",
        "                    entry TEXT,\n",
        "                    sentiment TEXT,\n",
        "                    emotion TEXT)''')\n",
        "  conn.commit()\n",
        "  conn.close()\n",
        "\n",
        "# Call this function once to create the table\n",
        "create_db()\n",
        "\n",
        "# Store journal entry in the database\n",
        "def store_in_db(entry, sentiment, emotion, timestamp):\n",
        "  conn = sqlite3.connect('journal.db')\n",
        "  cursor = conn.cursor()\n",
        "  cursor.execute(\"INSERT INTO journal (timestamp, entry, sentiment, emotion) VALUES (?, ?, ?, ?)\",\n",
        "                   (timestamp, entry, sentiment, emotion))\n",
        "  conn.commit()\n",
        "  conn.close()\n",
        "\n",
        "# Store the journal entry with sentiment and emotion\n",
        "store_in_db(entry,sentiment,emotion,timestamp)\n",
        "print(\"Journal entry stored successfully!\")"
      ],
      "metadata": {
        "id": "tz_uwADtwWzE",
        "outputId": "1ef2eb99-21d5-46fa-8856-14d97da25e11",
        "colab": {
          "base_uri": "https://localhost:8080/"
        }
      },
      "execution_count": 28,
      "outputs": [
        {
          "output_type": "stream",
          "name": "stdout",
          "text": [
            "Journal entry stored successfully!\n"
          ]
        }
      ]
    },
    {
      "cell_type": "code",
      "source": [
        "def fetch_data():\n",
        "  conn = sqlite3.connect('journal.db')\n",
        "  query = \"SELECt timestamp, emotion FROM journal\"\n",
        "  data = pd.read_sql_query(query,conn)\n",
        "  conn.close()\n",
        "  return data\n",
        "\n",
        "# Plot the emotional trends over time\n",
        "def plot_emotion_trends():\n",
        "  data = fetch_data()\n",
        "  data['timestamp'] = pd.to_datetime(data['timestamp'])\n",
        "\n",
        "  # Count the occurences of each emotion over time\n",
        "  emotion_trend = data.groupby([data['timestamp'].dt.date, 'emotion']).size().unstack(fill_value=0)\n",
        "\n",
        "  # Plot the trends\n",
        "  emotion_trend.plot(kind='line', figsize=(10,5))\n",
        "  plt.title(\"Emotional Trends Over Time\")\n",
        "  plt.xlabel(\"Date\")\n",
        "  plt.ylabel(\"Emotion Frequency\")\n",
        "  plt.show()\n",
        "\n",
        "# Plot the graph\n",
        "plot_emotion_trends()"
      ],
      "metadata": {
        "id": "cHcGo5q2z1K8",
        "outputId": "70edce71-6db3-4c8d-ea4a-a86da1123203",
        "colab": {
          "base_uri": "https://localhost:8080/",
          "height": 487
        }
      },
      "execution_count": 34,
      "outputs": [
        {
          "output_type": "display_data",
          "data": {
            "text/plain": [
              "<Figure size 1000x500 with 1 Axes>"
            ],
            "image/png": "[encoded data removed]"
          },
          "metadata": {}
        }
      ]
    },
    {
      "cell_type": "code",
      "source": [
        "def fetch_all_entries():\n",
        "    conn = sqlite3.connect('journal.db')  # Connect to the database\n",
        "    query = \"SELECT * FROM journal\"  # SQL query to fetch all data\n",
        "    data = pd.read_sql_query(query, conn)  # Use pandas to execute the query and return as a DataFrame\n",
        "    conn.close()  # Close the connection\n",
        "    return data\n",
        "\n",
        "# Fetch and display the data\n",
        "data = fetch_all_entries()\n",
        "data"
      ],
      "metadata": {
        "id": "bOmWifUxzTNo",
        "outputId": "28e6bb47-c3ac-4031-eb1b-8ce2b1094bff",
        "colab": {
          "base_uri": "https://localhost:8080/",
          "height": 112
        }
      },
      "execution_count": 30,
      "outputs": [
        {
          "output_type": "execute_result",
          "data": {
            "text/plain": [
              "   id            timestamp                                              entry  \\\n",
              "0   1  2024-10-19 17:46:06                 I am currently above 23 years old.   \n",
              "1   2  2024-10-19 18:12:01  I am feeling sad today but still thinking to l...   \n",
              "\n",
              "  sentiment  emotion  \n",
              "0   Neutral  neutral  \n",
              "1  Negative  sadness  "
            ],
            "text/html": [
              "\n",
              "  <div id=\"df-6eec9ed7-b67a-4822-b904-204e1d6c5bb6\" class=\"colab-df-container\">\n",
              "    <div>\n",
              "<style scoped>\n",
              "    .dataframe tbody tr th:only-of-type {\n",
              "        vertical-align: middle;\n",
              "    }\n",
              "\n",
              "    .dataframe tbody tr th {\n",
              "        vertical-align: top;\n",
              "    }\n",
              "\n",
              "    .dataframe thead th {\n",
              "        text-align: right;\n",
              "    }\n",
              "</style>\n",
              "<table border=\"1\" class=\"dataframe\">\n",
              "  <thead>\n",
              "    <tr style=\"text-align: right;\">\n",
              "      <th></th>\n",
              "      <th>id</th>\n",
              "      <th>timestamp</th>\n",
              "      <th>entry</th>\n",
              "      <th>sentiment</th>\n",
              "      <th>emotion</th>\n",
              "    </tr>\n",
              "  </thead>\n",
              "  <tbody>\n",
              "    <tr>\n",
              "      <th>0</th>\n",
              "      <td>1</td>\n",
              "      <td>2024-10-19 17:46:06</td>\n",
              "      <td>I am currently above 23 years old.</td>\n",
              "      <td>Neutral</td>\n",
              "      <td>neutral</td>\n",
              "    </tr>\n",
              "    <tr>\n",
              "      <th>1</th>\n",
              "      <td>2</td>\n",
              "      <td>2024-10-19 18:12:01</td>\n",
              "      <td>I am feeling sad today but still thinking to l...</td>\n",
              "      <td>Negative</td>\n",
              "      <td>sadness</td>\n",
              "    </tr>\n",
              "  </tbody>\n",
              "</table>\n",
              "</div>\n",
              "    <div class=\"colab-df-buttons\">\n",
              "      \n",
              "  <div class=\"colab-df-container\">\n",
              "    <button class=\"colab-df-convert\" onclick=\"convertToInteractive('df-6eec9ed7-b67a-4822-b904-204e1d6c5bb6')\"\n",
              "            title=\"Convert this dataframe to an interactive table.\"\n",
              "            style=\"display:none;\">\n",
              "      \n",
              "  <svg xmlns=\"http://www.w3.org/2000/svg\" height=\"24px\" viewBox=\"0 -960 960 960\">\n",
              "    <path d=\"M120-120v-720h720v720H120Zm60-500h600v-160H180v160Zm220 220h160v-160H400v160Zm0 220h160v-160H400v160ZM180-400h160v-160H180v160Zm440 0h160v-160H620v160ZM180-180h160v-160H180v160Zm440 0h160v-160H620v160Z\"/>\n",
              "  </svg>\n",
              "    </button>\n",
              "    \n",
              "  <style>\n",
              "    .colab-df-container {\n",
              "      display:flex;\n",
              "      gap: 12px;\n",
              "    }\n",
              "\n",
              "    .colab-df-convert {\n",
              "      background-color: #E8F0FE;\n",
              "      border: none;\n",
              "      border-radius: 50%;\n",
              "      cursor: pointer;\n",
              "      display: none;\n",
              "      fill: #1967D2;\n",
              "      height: 32px;\n",
              "      padding: 0 0 0 0;\n",
              "      width: 32px;\n",
              "    }\n",
              "\n",
              "    .colab-df-convert:hover {\n",
              "      background-color: #E2EBFA;\n",
              "      box-shadow: 0px 1px 2px rgba(60, 64, 67, 0.3), 0px 1px 3px 1px rgba(60, 64, 67, 0.15);\n",
              "      fill: #174EA6;\n",
              "    }\n",
              "\n",
              "    .colab-df-buttons div {\n",
              "      margin-bottom: 4px;\n",
              "    }\n",
              "\n",
              "    [theme=dark] .colab-df-convert {\n",
              "      background-color: #3B4455;\n",
              "      fill: #D2E3FC;\n",
              "    }\n",
              "\n",
              "    [theme=dark] .colab-df-convert:hover {\n",
              "      background-color: #434B5C;\n",
              "      box-shadow: 0px 1px 3px 1px rgba(0, 0, 0, 0.15);\n",
              "      filter: drop-shadow(0px 1px 2px rgba(0, 0, 0, 0.3));\n",
              "      fill: #FFFFFF;\n",
              "    }\n",
              "  </style>\n",
              "\n",
              "    <script>\n",
              "      const buttonEl =\n",
              "        document.querySelector('#df-6eec9ed7-b67a-4822-b904-204e1d6c5bb6 button.colab-df-convert');\n",
              "      buttonEl.style.display =\n",
              "        google.colab.kernel.accessAllowed ? 'block' : 'none';\n",
              "\n",
              "      async function convertToInteractive(key) {\n",
              "        const element = document.querySelector('#df-6eec9ed7-b67a-4822-b904-204e1d6c5bb6');\n",
              "        const dataTable =\n",
              "          await google.colab.kernel.invokeFunction('convertToInteractive',\n",
              "                                                    [key], {});\n",
              "        if (!dataTable) return;\n",
              "\n",
              "        const docLinkHtml = 'Like what you see? Visit the ' +\n",
              "          '<a target=\"_blank\" href=https://colab.research.google.com/notebooks/data_table.ipynb>data table notebook</a>'\n",
              "          + ' to learn more about interactive tables.';\n",
              "        element.innerHTML = '';\n",
              "        dataTable['output_type'] = 'display_data';\n",
              "        await google.colab.output.renderOutput(dataTable, element);\n",
              "        const docLink = document.createElement('div');\n",
              "        docLink.innerHTML = docLinkHtml;\n",
              "        element.appendChild(docLink);\n",
              "      }\n",
              "    </script>\n",
              "  </div>\n",
              "  \n",
              "    </div>\n",
              "  </div>\n",
              "  "
            ]
          },
          "metadata": {},
          "execution_count": 30
        }
      ]
    },
    {
      "cell_type": "code",
      "source": [],
      "metadata": {
        "id": "65JAihjuzhsV"
      },
      "execution_count": null,
      "outputs": []
    }
  ]
}